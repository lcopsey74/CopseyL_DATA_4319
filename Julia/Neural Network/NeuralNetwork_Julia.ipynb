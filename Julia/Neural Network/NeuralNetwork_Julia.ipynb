{
 "cells": [
  {
   "cell_type": "markdown",
   "metadata": {},
   "source": [
    "## Neural Network"
   ]
  },
  {
   "cell_type": "markdown",
   "metadata": {},
   "source": [
    "A neural network is computing system modeled after the way our brains work. They consist of a collection of artificial neurons arranged in layers. Each neuron takes in values which are then multiplied by randomly initialized weights before being summed. The obtained value is then passed through an activation function to get an output. A network consists of one input layer, some number of hidden layers, and one output layer. \n",
    "\n",
    "<img src=\"neuralnetwork.png\" width=400 />\n",
    "\n",
    "___"
   ]
  },
  {
   "cell_type": "markdown",
   "metadata": {},
   "source": [
    "### The MNIST dataset\n",
    "\n",
    "The MNIST dataset consists of 70,000 28x28 pixel grayscale images of handwritten single digits from 0 to 9. The training set contains 60,000 images and the test set 10,000. For more information you can find the dataset [here](http://yann.lecun.com/exdb/mnist/).\n",
    "\n",
    "<img src=\"MnistExamples.png\" width=600 />\n",
    "\n",
    "\n",
    "___"
   ]
  },
  {
   "cell_type": "markdown",
   "metadata": {},
   "source": [
    "In this notebook we will use the following packages:\n",
    "- [MLDatasets](https://juliaml.github.io/MLDatasets.jl/latest/)\n",
    "- [Images](https://juliaimages.org/stable/)\n",
    "- [TestImages](https://testimages.juliaimages.org/)\n",
    "- [Plots](http://docs.juliaplots.org/latest/)\n",
    "___"
   ]
  },
  {
   "cell_type": "code",
   "execution_count": 1,
   "metadata": {},
   "outputs": [],
   "source": [
    "using MLDatasets\n",
    "using Images\n",
    "using TestImages\n",
    "using Plots"
   ]
  },
  {
   "cell_type": "code",
   "execution_count": 2,
   "metadata": {},
   "outputs": [],
   "source": [
    "train_x, train_y = MNIST.traindata()\n",
    "test_x, test_y = MNIST.testdata();"
   ]
  },
  {
   "cell_type": "code",
   "execution_count": 3,
   "metadata": {},
   "outputs": [
    {
     "data": {
      "text/plain": [
       "(28, 28, 60000)"
      ]
     },
     "execution_count": 3,
     "metadata": {},
     "output_type": "execute_result"
    }
   ],
   "source": [
    "size(train_x)"
   ]
  },
  {
   "cell_type": "code",
   "execution_count": 4,
   "metadata": {},
   "outputs": [
    {
     "data": {
      "text/plain": [
       "28×28 Array{N0f8,2} with eltype N0f8:\n",
       " 0.0  0.0  0.0  0.0  0.0  0.0    0.0    …  0.0    0.0    0.0    0.0  0.0  0.0\n",
       " 0.0  0.0  0.0  0.0  0.0  0.0    0.0       0.0    0.0    0.0    0.0  0.0  0.0\n",
       " 0.0  0.0  0.0  0.0  0.0  0.0    0.0       0.0    0.0    0.0    0.0  0.0  0.0\n",
       " 0.0  0.0  0.0  0.0  0.0  0.0    0.0       0.0    0.0    0.0    0.0  0.0  0.0\n",
       " 0.0  0.0  0.0  0.0  0.0  0.0    0.0       0.0    0.216  0.533  0.0  0.0  0.0\n",
       " 0.0  0.0  0.0  0.0  0.0  0.0    0.0    …  0.0    0.675  0.992  0.0  0.0  0.0\n",
       " 0.0  0.0  0.0  0.0  0.0  0.0    0.0       0.071  0.886  0.992  0.0  0.0  0.0\n",
       " 0.0  0.0  0.0  0.0  0.0  0.0    0.0       0.671  0.992  0.992  0.0  0.0  0.0\n",
       " 0.0  0.0  0.0  0.0  0.0  0.0    0.118     0.859  0.992  0.831  0.0  0.0  0.0\n",
       " 0.0  0.0  0.0  0.0  0.0  0.0    0.141     0.992  0.992  0.529  0.0  0.0  0.0\n",
       " 0.0  0.0  0.0  0.0  0.0  0.0    0.369  …  0.992  0.992  0.518  0.0  0.0  0.0\n",
       " 0.0  0.0  0.0  0.0  0.0  0.0    0.604     0.992  0.957  0.063  0.0  0.0  0.0\n",
       " 0.0  0.0  0.0  0.0  0.0  0.012  0.667     0.992  0.522  0.0    0.0  0.0  0.0\n",
       " ⋮                        ⋮             ⋱                       ⋮         \n",
       " 0.0  0.0  0.0  0.0  0.0  0.494  0.992     0.0    0.0    0.0    0.0  0.0  0.0\n",
       " 0.0  0.0  0.0  0.0  0.0  0.533  0.992     0.0    0.0    0.0    0.0  0.0  0.0\n",
       " 0.0  0.0  0.0  0.0  0.0  0.686  0.882     0.0    0.0    0.0    0.0  0.0  0.0\n",
       " 0.0  0.0  0.0  0.0  0.0  0.102  0.675     0.0    0.0    0.0    0.0  0.0  0.0\n",
       " 0.0  0.0  0.0  0.0  0.0  0.651  0.992  …  0.0    0.0    0.0    0.0  0.0  0.0\n",
       " 0.0  0.0  0.0  0.0  0.0  1.0    0.949     0.0    0.0    0.0    0.0  0.0  0.0\n",
       " 0.0  0.0  0.0  0.0  0.0  0.969  0.765     0.0    0.0    0.0    0.0  0.0  0.0\n",
       " 0.0  0.0  0.0  0.0  0.0  0.498  0.251     0.0    0.0    0.0    0.0  0.0  0.0\n",
       " 0.0  0.0  0.0  0.0  0.0  0.0    0.0       0.0    0.0    0.0    0.0  0.0  0.0\n",
       " 0.0  0.0  0.0  0.0  0.0  0.0    0.0    …  0.0    0.0    0.0    0.0  0.0  0.0\n",
       " 0.0  0.0  0.0  0.0  0.0  0.0    0.0       0.0    0.0    0.0    0.0  0.0  0.0\n",
       " 0.0  0.0  0.0  0.0  0.0  0.0    0.0       0.0    0.0    0.0    0.0  0.0  0.0"
      ]
     },
     "execution_count": 4,
     "metadata": {},
     "output_type": "execute_result"
    }
   ],
   "source": [
    "train_x[:, :, 1]"
   ]
  },
  {
   "cell_type": "code",
   "execution_count": 5,
   "metadata": {},
   "outputs": [
    {
     "name": "stdout",
     "output_type": "stream",
     "text": [
      "The first image in our train data is labeled 5\n"
     ]
    },
    {
     "data": {
      "image/png": "[encoded data removed]",
      "text/plain": [
       "28×28 reinterpret(reshape, Gray{N0f8}, adjoint(::Array{N0f8,2})) with eltype Gray{N0f8}:\n",
       " Gray{N0f8}(0.0)  Gray{N0f8}(0.0)  …  Gray{N0f8}(0.0)  Gray{N0f8}(0.0)\n",
       " Gray{N0f8}(0.0)  Gray{N0f8}(0.0)     Gray{N0f8}(0.0)  Gray{N0f8}(0.0)\n",
       " Gray{N0f8}(0.0)  Gray{N0f8}(0.0)     Gray{N0f8}(0.0)  Gray{N0f8}(0.0)\n",
       " Gray{N0f8}(0.0)  Gray{N0f8}(0.0)     Gray{N0f8}(0.0)  Gray{N0f8}(0.0)\n",
       " Gray{N0f8}(0.0)  Gray{N0f8}(0.0)     Gray{N0f8}(0.0)  Gray{N0f8}(0.0)\n",
       " Gray{N0f8}(0.0)  Gray{N0f8}(0.0)  …  Gray{N0f8}(0.0)  Gray{N0f8}(0.0)\n",
       " Gray{N0f8}(0.0)  Gray{N0f8}(0.0)     Gray{N0f8}(0.0)  Gray{N0f8}(0.0)\n",
       " Gray{N0f8}(0.0)  Gray{N0f8}(0.0)     Gray{N0f8}(0.0)  Gray{N0f8}(0.0)\n",
       " Gray{N0f8}(0.0)  Gray{N0f8}(0.0)     Gray{N0f8}(0.0)  Gray{N0f8}(0.0)\n",
       " Gray{N0f8}(0.0)  Gray{N0f8}(0.0)     Gray{N0f8}(0.0)  Gray{N0f8}(0.0)\n",
       " Gray{N0f8}(0.0)  Gray{N0f8}(0.0)  …  Gray{N0f8}(0.0)  Gray{N0f8}(0.0)\n",
       " Gray{N0f8}(0.0)  Gray{N0f8}(0.0)     Gray{N0f8}(0.0)  Gray{N0f8}(0.0)\n",
       " Gray{N0f8}(0.0)  Gray{N0f8}(0.0)     Gray{N0f8}(0.0)  Gray{N0f8}(0.0)\n",
       " ⋮                                 ⋱                   \n",
       " Gray{N0f8}(0.0)  Gray{N0f8}(0.0)     Gray{N0f8}(0.0)  Gray{N0f8}(0.0)\n",
       " Gray{N0f8}(0.0)  Gray{N0f8}(0.0)     Gray{N0f8}(0.0)  Gray{N0f8}(0.0)\n",
       " Gray{N0f8}(0.0)  Gray{N0f8}(0.0)     Gray{N0f8}(0.0)  Gray{N0f8}(0.0)\n",
       " Gray{N0f8}(0.0)  Gray{N0f8}(0.0)     Gray{N0f8}(0.0)  Gray{N0f8}(0.0)\n",
       " Gray{N0f8}(0.0)  Gray{N0f8}(0.0)  …  Gray{N0f8}(0.0)  Gray{N0f8}(0.0)\n",
       " Gray{N0f8}(0.0)  Gray{N0f8}(0.0)     Gray{N0f8}(0.0)  Gray{N0f8}(0.0)\n",
       " Gray{N0f8}(0.0)  Gray{N0f8}(0.0)     Gray{N0f8}(0.0)  Gray{N0f8}(0.0)\n",
       " Gray{N0f8}(0.0)  Gray{N0f8}(0.0)     Gray{N0f8}(0.0)  Gray{N0f8}(0.0)\n",
       " Gray{N0f8}(0.0)  Gray{N0f8}(0.0)     Gray{N0f8}(0.0)  Gray{N0f8}(0.0)\n",
       " Gray{N0f8}(0.0)  Gray{N0f8}(0.0)  …  Gray{N0f8}(0.0)  Gray{N0f8}(0.0)\n",
       " Gray{N0f8}(0.0)  Gray{N0f8}(0.0)     Gray{N0f8}(0.0)  Gray{N0f8}(0.0)\n",
       " Gray{N0f8}(0.0)  Gray{N0f8}(0.0)     Gray{N0f8}(0.0)  Gray{N0f8}(0.0)"
      ]
     },
     "execution_count": 5,
     "metadata": {},
     "output_type": "execute_result"
    }
   ],
   "source": [
    "println(\"The first image in our train data is labeled \", train_y[1])\n",
    "colorview(Gray, train_x[:, :, 1]')"
   ]
  },
  {
   "cell_type": "code",
   "execution_count": 6,
   "metadata": {},
   "outputs": [],
   "source": [
    "X = []\n",
    "Y = []\n",
    "\n",
    "for i = 1:60000\n",
    "    push!(X, reshape(train_x[:, :, i], 784))\n",
    "    y = zeros(10)\n",
    "    y[train_y[i] + 1] = 1.0\n",
    "    push!(Y, y)\n",
    "end\n",
    "train_data = [x for x in zip(X, Y)]\n",
    "\n",
    "X = []\n",
    "Y = []\n",
    "\n",
    "for i = 1:10000\n",
    "    push!(X, reshape(test_x[:, :, i], 784))\n",
    "    y = zeros(10)\n",
    "    y[test_y[i] + 1] = 1.0\n",
    "    push!(Y, y)\n",
    "end\n",
    "test_data = [x for x in zip(X, Y)];"
   ]
  },
  {
   "cell_type": "code",
   "execution_count": 7,
   "metadata": {},
   "outputs": [
    {
     "data": {
      "text/plain": [
       "create_network (generic function with 1 method)"
      ]
     },
     "execution_count": 7,
     "metadata": {},
     "output_type": "execute_result"
    }
   ],
   "source": [
    "# Define the activation function and its derivative\n",
    "σ(x) = 1.0 / (1.0 + exp(-x))\n",
    "\n",
    "dσ(x) = σ(x) * (1 - σ(x))\n",
    "\n",
    "\n",
    "# Define a neural network type\n",
    "mutable struct neural_network\n",
    "    W\n",
    "    b\n",
    "end\n",
    "\n",
    "\n",
    "function create_network(input_layer_size, hidden_layer_sizes, output_layer_size)\n",
    "    \n",
    "    W = [[0.0], randn(hidden_layer_sizes[1], input_layer_size)]\n",
    "    \n",
    "    b = [[0.0], randn(hidden_layer_sizes[1])]\n",
    "    \n",
    "    for i = 2:length(hidden_layer_sizes)\n",
    "        push!(W, randn(hidden_layer_sizes[i], hidden_layer_sizes[i-1]))\n",
    "        push!(b, randn(hidden_layer_sizes[i]))\n",
    "    end\n",
    "    \n",
    "    push!(W, randn(output_layer_size, hidden_layer_sizes[end]))\n",
    "    push!(b, randn(output_layer_size))\n",
    "    \n",
    "    return neural_network(W, b)\n",
    "end"
   ]
  },
  {
   "cell_type": "code",
   "execution_count": 8,
   "metadata": {},
   "outputs": [
    {
     "data": {
      "text/plain": [
       "neural_network(Array{Float64, N} where N[[0.0], [-0.8144514706648833 -0.5059394024362098 … 1.0583747531760794 3.15273388217343; 0.22243507041245725 0.625885163312154 … -0.16478054741018888 -0.6733148456767674; … ; 1.682914635910663 -0.8620034116547436 … 0.006910712866810948 0.9761869166577395; 2.0467089648326557 0.6032683956621298 … 0.08006053508039083 -0.19455251183191416], [-0.7791716794693662 0.38016628189820906 … -1.1362157707955531 -1.5707493746986287; 0.20559772523915631 -1.4403556549105714 … -1.44551187093074 -0.7796628075980673; … ; 0.7505281100039927 0.07501734452545233 … -0.751461913400977 0.38186263806921894; -0.2647301550928282 1.2491332798170849 … 0.7891659597121838 -1.0659852932508747], [0.294784622975771 0.5522120121346179 … 1.6662402838384685 1.0607208016591332; 1.3915281679497336 0.8488371016269436 … 0.22525171191919216 -1.1732695872977825; … ; -0.14672056331735012 0.670155289723494 … 0.026253454172531568 -1.2393701738478453; 0.6218896864802451 0.18944977951814698 … -0.08329550124855746 1.1798864764103634], [-1.1620488796816006 1.4331435332995375 … 0.6264025014369153 0.6571338137548456; 1.0414509215890888 0.5308401109680371 … 1.373874647826527 0.35009132891957745; … ; 0.3716532635220628 1.007162369904672 … 0.28358193606461946 0.4782905783869576; -2.0108238848886186 -0.01300361785773074 … -0.03209447074601687 -0.012002337175481867]], [[0.0], [0.4746912728759544, 2.0936739721436965, -0.3272281142291027, 0.04121867423483723, 1.2735716433214959, 0.7182307849650224, -0.3854135237727758, -0.05597864718300431, 0.3307461906944588, 0.5104851866996332  …  0.1927432835377815, -0.20279808088192802, -0.01669636909372153, -0.4374566914281731, 1.469860643988911, 0.9126073842419666, -0.9555333292553548, 0.767712347550908, -1.2705032138014043, 0.42893525255510795], [-0.8648523278905695, 0.8824931018293763, 1.3322426040684672, -0.0699132259413603, -1.3567332740410178, 1.9615772828651112, -2.529645039400697, -2.6642135761603027, 0.3394188106980532, 0.7357596095984844  …  2.573953567840149, 0.00012757188487820653, 2.4572180918051663, -1.9572519468475196, -0.5941490724267346, -0.29352527367557135, -1.8509338193297167, 0.11468083960533988, 0.6718410458643428, -0.6261789388661483], [-0.2291101645367213, 0.28617435065337365, -0.8624624130252352, -0.847956385809448, -0.13471341709807402, 0.6266289238291907, 0.04096731671404867, -0.26821265179413645, -0.024208953077385777, -0.008220335311938703  …  -0.9347358724914748, -1.1504312036866904, -0.6724434429780923, 0.07076268158135808, 0.801954795849144, 0.6907163583523296, 1.5542444854089792, 0.1450483923696476, -0.50501968129587, -2.2335608344599653], [-0.17571308004700312, -0.5640566498788121, 0.09607091745610558, -0.21789926234501478, -0.219442360531553, -1.3672412991348484, 0.22252509768481857, -0.441016761007464, 1.111257283448681, -0.5636610697396736]])"
      ]
     },
     "execution_count": 8,
     "metadata": {},
     "output_type": "execute_result"
    }
   ],
   "source": [
    "NN = create_network(784, [100, 100, 100], 10)"
   ]
  },
  {
   "cell_type": "code",
   "execution_count": 9,
   "metadata": {},
   "outputs": [
    {
     "data": {
      "text/plain": [
       "5-element Vector{Vector{Float64}}:\n",
       " [0.0]\n",
       " [0.4746912728759544, 2.0936739721436965, -0.3272281142291027, 0.04121867423483723, 1.2735716433214959, 0.7182307849650224, -0.3854135237727758, -0.05597864718300431, 0.3307461906944588, 0.5104851866996332  …  0.1927432835377815, -0.20279808088192802, -0.01669636909372153, -0.4374566914281731, 1.469860643988911, 0.9126073842419666, -0.9555333292553548, 0.767712347550908, -1.2705032138014043, 0.42893525255510795]\n",
       " [-0.8648523278905695, 0.8824931018293763, 1.3322426040684672, -0.0699132259413603, -1.3567332740410178, 1.9615772828651112, -2.529645039400697, -2.6642135761603027, 0.3394188106980532, 0.7357596095984844  …  2.573953567840149, 0.00012757188487820653, 2.4572180918051663, -1.9572519468475196, -0.5941490724267346, -0.29352527367557135, -1.8509338193297167, 0.11468083960533988, 0.6718410458643428, -0.6261789388661483]\n",
       " [-0.2291101645367213, 0.28617435065337365, -0.8624624130252352, -0.847956385809448, -0.13471341709807402, 0.6266289238291907, 0.04096731671404867, -0.26821265179413645, -0.024208953077385777, -0.008220335311938703  …  -0.9347358724914748, -1.1504312036866904, -0.6724434429780923, 0.07076268158135808, 0.801954795849144, 0.6907163583523296, 1.5542444854089792, 0.1450483923696476, -0.50501968129587, -2.2335608344599653]\n",
       " [-0.17571308004700312, -0.5640566498788121, 0.09607091745610558, -0.21789926234501478, -0.219442360531553, -1.3672412991348484, 0.22252509768481857, -0.441016761007464, 1.111257283448681, -0.5636610697396736]"
      ]
     },
     "execution_count": 9,
     "metadata": {},
     "output_type": "execute_result"
    }
   ],
   "source": [
    "NN.b"
   ]
  },
  {
   "cell_type": "code",
   "execution_count": 10,
   "metadata": {},
   "outputs": [
    {
     "name": "stdout",
     "output_type": "stream",
     "text": [
      "(1,)\n",
      "\n",
      "(100, 784)\n",
      "\n",
      "(100, 100)\n",
      "\n",
      "(100, 100)\n",
      "\n",
      "(10, 100)\n",
      "\n"
     ]
    }
   ],
   "source": [
    "for w in NN.W\n",
    "    println(size(w))\n",
    "    println(\"\")\n",
    "end"
   ]
  },
  {
   "cell_type": "code",
   "execution_count": 11,
   "metadata": {},
   "outputs": [
    {
     "data": {
      "text/plain": [
       "success_percentage (generic function with 1 method)"
      ]
     },
     "execution_count": 11,
     "metadata": {},
     "output_type": "execute_result"
    }
   ],
   "source": [
    "function forward_pass(network, training_instance)\n",
    "    Z = [[0.0]]\n",
    "    A = [training_instance[1]]\n",
    "    \n",
    "    for i = 2:length(network.W)\n",
    "        push!(Z, network.W[i] * A[i-1] + network.b[i])\n",
    "        push!(A, σ.(Z[i]))\n",
    "    end\n",
    "    \n",
    "    return Z, A\n",
    "end\n",
    "\n",
    "\n",
    "function predict(network, training_instance)\n",
    "    Z, A = forward_pass(network, training_instance)\n",
    "    return argmax(A[end]) - 1\n",
    "end\n",
    "\n",
    "\n",
    "function success_percentage(network, data_set)\n",
    "    return string(\"The percentage of correctly classified images is: \", sum([predict(network, x) == argmax(x[2]) - 1 ? 1 : 0 for x in data_set]) / length(data_set) * 100., \" %\")\n",
    "end"
   ]
  },
  {
   "cell_type": "code",
   "execution_count": 12,
   "metadata": {},
   "outputs": [
    {
     "data": {
      "text/plain": [
       "\"The percentage of correctly classified images is: 12.049999999999999 %\""
      ]
     },
     "execution_count": 12,
     "metadata": {},
     "output_type": "execute_result"
    }
   ],
   "source": [
    "success_percentage(NN, test_data)"
   ]
  },
  {
   "cell_type": "code",
   "execution_count": 13,
   "metadata": {},
   "outputs": [
    {
     "data": {
      "text/plain": [
       "error_deltas (generic function with 1 method)"
      ]
     },
     "execution_count": 13,
     "metadata": {},
     "output_type": "execute_result"
    }
   ],
   "source": [
    "function error_deltas(network, training_instance)\n",
    "    Z, A = forward_pass(network, training_instance)\n",
    "    L = size(network.W)[1]\n",
    "    δ = [(A[end] - training_instance[2]).*dσ.(Z[end])]\n",
    "    for i = L-1:-1:2\n",
    "        pushfirst!(δ, (network.W[i + 1]' * δ[1]).*dσ.(Z[i]))\n",
    "    end\n",
    "    pushfirst!(δ, [0.0])\n",
    "    return A, δ\n",
    "end"
   ]
  },
  {
   "cell_type": "code",
   "execution_count": 14,
   "metadata": {},
   "outputs": [
    {
     "data": {
      "text/plain": [
       "(Vector{N0f8}[[0.0N0f8, 0.0N0f8, 0.0N0f8, 0.0N0f8, 0.0N0f8, 0.0N0f8, 0.0N0f8, 0.0N0f8, 0.0N0f8, 0.0N0f8  …  0.0N0f8, 0.0N0f8, 0.0N0f8, 0.0N0f8, 0.0N0f8, 0.0N0f8, 0.0N0f8, 0.0N0f8, 0.0N0f8, 0.0N0f8], [0.384N0f8, 0.969N0f8, 0.0N0f8, 0.0N0f8, 1.0N0f8, 0.263N0f8, 0.776N0f8, 1.0N0f8, 0.0N0f8, 1.0N0f8  …  0.0N0f8, 0.996N0f8, 0.082N0f8, 0.043N0f8, 0.0N0f8, 0.459N0f8, 1.0N0f8, 1.0N0f8, 0.0N0f8, 0.0N0f8], [0.0N0f8, 0.643N0f8, 1.0N0f8, 0.0N0f8, 0.145N0f8, 0.969N0f8, 0.929N0f8, 0.0N0f8, 0.0N0f8, 0.855N0f8  …  0.749N0f8, 1.0N0f8, 0.435N0f8, 1.0N0f8, 0.047N0f8, 0.0N0f8, 0.0N0f8, 0.875N0f8, 0.992N0f8, 0.776N0f8], [0.796N0f8, 0.184N0f8, 0.02N0f8, 0.0N0f8, 0.008N0f8, 0.035N0f8, 0.004N0f8, 1.0N0f8, 0.725N0f8, 0.141N0f8  …  0.667N0f8, 0.988N0f8, 0.0N0f8, 0.569N0f8, 0.89N0f8, 0.839N0f8, 0.0N0f8, 1.0N0f8, 0.145N0f8, 1.0N0f8], [0.576N0f8, 0.004N0f8, 0.18N0f8, 0.98N0f8, 0.957N0f8, 1.0N0f8, 1.0N0f8, 0.992N0f8, 1.0N0f8, 0.008N0f8]], [[0.0], [-0.026553403639375923, -0.001410623479267051, 3.837793894575284e-6, -2.2361747065759106e-6, -0.00026077387146564537, 0.0021697178375331846, -0.008109281090053905, 1.8154484287938334e-12, 8.115665297563253e-10, 1.7818092302431108e-5  …  -5.690088096937381e-7, -0.00028469496231727176, -0.0032881372212893428, -0.008186773457600568, 8.65553280352262e-7, -0.049762699062009134, -3.6440801627180617e-7, -5.4197454415502726e-8, 6.97928954245736e-6, 8.220392321258769e-8], [0.000121019152366111, -0.022368275025767326, -4.917471801737279e-5, -1.7648086504605343e-5, -0.02845683597993556, -0.0040290556005660675, -0.000955181114178089, -1.8600750171666053e-6, 1.4077225627999439e-5, 0.005707054627962471  …  -0.011110670629437141, 1.900486501374653e-6, -0.0002205551671601925, -0.0001148339403043635, -0.006604400912839888, -1.074499378614317e-7, -3.67162780466684e-5, -0.008734478835572018, 0.0005789122031525998, -0.024443979825841386], [-0.021826364659834598, 0.029023942001412832, 0.0010630767657925696, -2.540951940046258e-6, -0.00018670300261724684, 0.005825493905404324, 0.00026397993858884886, 6.319703211899404e-7, -0.018198323869641014, -0.01509822881510443  …  -0.03640684212943023, -0.0004216911466238405, 0.00025048054520406427, 0.057400640396730096, 0.012471422406866151, -0.013369907888405409, -4.616405514445459e-6, 0.0004067838092441057, 0.015353561580805404, 9.89352462919687e-7], [0.14088069056758976, 9.589162639024321e-6, 0.026765587504408245, 0.017031727797788235, 0.039088048316571464, 0.0, 0.0007182302721286295, 0.0078002229258767874, 1.0182388346073657e-6, 4.625429480182246e-5]])"
      ]
     },
     "execution_count": 14,
     "metadata": {},
     "output_type": "execute_result"
    }
   ],
   "source": [
    "A_test, δ_test = error_deltas(NN, train_data[1])"
   ]
  },
  {
   "cell_type": "code",
   "execution_count": 15,
   "metadata": {},
   "outputs": [
    {
     "data": {
      "text/plain": [
       "10-element Vector{Float64}:\n",
       " 0.14088069056758976\n",
       " 9.589162639024321e-6\n",
       " 0.026765587504408245\n",
       " 0.017031727797788235\n",
       " 0.039088048316571464\n",
       " 0.0\n",
       " 0.0007182302721286295\n",
       " 0.0078002229258767874\n",
       " 1.0182388346073657e-6\n",
       " 4.625429480182246e-5"
      ]
     },
     "execution_count": 15,
     "metadata": {},
     "output_type": "execute_result"
    }
   ],
   "source": [
    "δ_test[end]"
   ]
  },
  {
   "cell_type": "code",
   "execution_count": 16,
   "metadata": {},
   "outputs": [],
   "source": [
    "function make_random_mini_batch(mini_batch_size, data_set)\n",
    "    k = rand(1:length(data_set) - mini_batch_size)\n",
    "    return data_set[k:k+mini_batch_size]\n",
    "end\n",
    "\n",
    "\n",
    "function mini_batch_update!(network, mini_batch_size, data_set, α)\n",
    "    batch = make_random_mini_batch(mini_batch_size, data_set)\n",
    "    L = size(network.W)[1]\n",
    "    \n",
    "    A, δ = error_deltas(network, batch[1])\n",
    "    A_batch = []\n",
    "    δ_batch = []\n",
    "    push!(A_batch, A)\n",
    "    push!(δ_batch, δ)\n",
    "    \n",
    "    for i = 2:mini_batch_size\n",
    "        A, δ = error_deltas(network, batch[i])\n",
    "        push!(A_batch, A)\n",
    "        push!(δ_batch, δ)\n",
    "    end\n",
    "    \n",
    "    for l = L:-1:2\n",
    "        network.W[l] -= (α / mini_batch_size) * sum([δ_batch[i][l] * A_batch[i][l-1]' for i = 1:mini_batch_size])\n",
    "        network.b[l] -= (α / mini_batch_size) * sum([δ_batch[i][l] for i = 1:mini_batch_size])\n",
    "    end\n",
    "end;"
   ]
  },
  {
   "cell_type": "code",
   "execution_count": 17,
   "metadata": {},
   "outputs": [],
   "source": [
    "for _ = 1:70000\n",
    "    mini_batch_update!(NN, 15, train_data, 0.06)\n",
    "end"
   ]
  },
  {
   "cell_type": "code",
   "execution_count": 18,
   "metadata": {},
   "outputs": [
    {
     "data": {
      "text/plain": [
       "\"The percentage of correctly classified images is: 81.73 %\""
      ]
     },
     "execution_count": 18,
     "metadata": {},
     "output_type": "execute_result"
    }
   ],
   "source": [
    "success_percentage(NN, test_data)"
   ]
  },
  {
   "cell_type": "code",
   "execution_count": 19,
   "metadata": {},
   "outputs": [
    {
     "data": {
      "text/plain": [
       "show_test_example (generic function with 1 method)"
      ]
     },
     "execution_count": 19,
     "metadata": {},
     "output_type": "execute_result"
    }
   ],
   "source": [
    "function show_test_img(i)\n",
    "    colorview(Gray, test_x[:,:,i]')\n",
    "end\n",
    "\n",
    "function show_test_example(network, i, testing_data)\n",
    "    println(\"Predicted label: \", predict(network, testing_data[i]))\n",
    "    println(\"Actual label: \", argmax(testing_data[i][2]) - 1)\n",
    "    show_test_img(i)\n",
    "end"
   ]
  },
  {
   "cell_type": "code",
   "execution_count": 24,
   "metadata": {},
   "outputs": [
    {
     "name": "stdout",
     "output_type": "stream",
     "text": [
      "Predicted label: 0\n",
      "Actual label: 0\n"
     ]
    },
    {
     "data": {
      "image/png": "[encoded data removed]",
      "text/plain": [
       "28×28 reinterpret(reshape, Gray{N0f8}, adjoint(::Array{N0f8,2})) with eltype Gray{N0f8}:\n",
       " Gray{N0f8}(0.0)  Gray{N0f8}(0.0)  …  Gray{N0f8}(0.0)  Gray{N0f8}(0.0)\n",
       " Gray{N0f8}(0.0)  Gray{N0f8}(0.0)     Gray{N0f8}(0.0)  Gray{N0f8}(0.0)\n",
       " Gray{N0f8}(0.0)  Gray{N0f8}(0.0)     Gray{N0f8}(0.0)  Gray{N0f8}(0.0)\n",
       " Gray{N0f8}(0.0)  Gray{N0f8}(0.0)     Gray{N0f8}(0.0)  Gray{N0f8}(0.0)\n",
       " Gray{N0f8}(0.0)  Gray{N0f8}(0.0)     Gray{N0f8}(0.0)  Gray{N0f8}(0.0)\n",
       " Gray{N0f8}(0.0)  Gray{N0f8}(0.0)  …  Gray{N0f8}(0.0)  Gray{N0f8}(0.0)\n",
       " Gray{N0f8}(0.0)  Gray{N0f8}(0.0)     Gray{N0f8}(0.0)  Gray{N0f8}(0.0)\n",
       " Gray{N0f8}(0.0)  Gray{N0f8}(0.0)     Gray{N0f8}(0.0)  Gray{N0f8}(0.0)\n",
       " Gray{N0f8}(0.0)  Gray{N0f8}(0.0)     Gray{N0f8}(0.0)  Gray{N0f8}(0.0)\n",
       " Gray{N0f8}(0.0)  Gray{N0f8}(0.0)     Gray{N0f8}(0.0)  Gray{N0f8}(0.0)\n",
       " Gray{N0f8}(0.0)  Gray{N0f8}(0.0)  …  Gray{N0f8}(0.0)  Gray{N0f8}(0.0)\n",
       " Gray{N0f8}(0.0)  Gray{N0f8}(0.0)     Gray{N0f8}(0.0)  Gray{N0f8}(0.0)\n",
       " Gray{N0f8}(0.0)  Gray{N0f8}(0.0)     Gray{N0f8}(0.0)  Gray{N0f8}(0.0)\n",
       " ⋮                                 ⋱                   \n",
       " Gray{N0f8}(0.0)  Gray{N0f8}(0.0)     Gray{N0f8}(0.0)  Gray{N0f8}(0.0)\n",
       " Gray{N0f8}(0.0)  Gray{N0f8}(0.0)     Gray{N0f8}(0.0)  Gray{N0f8}(0.0)\n",
       " Gray{N0f8}(0.0)  Gray{N0f8}(0.0)     Gray{N0f8}(0.0)  Gray{N0f8}(0.0)\n",
       " Gray{N0f8}(0.0)  Gray{N0f8}(0.0)     Gray{N0f8}(0.0)  Gray{N0f8}(0.0)\n",
       " Gray{N0f8}(0.0)  Gray{N0f8}(0.0)  …  Gray{N0f8}(0.0)  Gray{N0f8}(0.0)\n",
       " Gray{N0f8}(0.0)  Gray{N0f8}(0.0)     Gray{N0f8}(0.0)  Gray{N0f8}(0.0)\n",
       " Gray{N0f8}(0.0)  Gray{N0f8}(0.0)     Gray{N0f8}(0.0)  Gray{N0f8}(0.0)\n",
       " Gray{N0f8}(0.0)  Gray{N0f8}(0.0)     Gray{N0f8}(0.0)  Gray{N0f8}(0.0)\n",
       " Gray{N0f8}(0.0)  Gray{N0f8}(0.0)     Gray{N0f8}(0.0)  Gray{N0f8}(0.0)\n",
       " Gray{N0f8}(0.0)  Gray{N0f8}(0.0)  …  Gray{N0f8}(0.0)  Gray{N0f8}(0.0)\n",
       " Gray{N0f8}(0.0)  Gray{N0f8}(0.0)     Gray{N0f8}(0.0)  Gray{N0f8}(0.0)\n",
       " Gray{N0f8}(0.0)  Gray{N0f8}(0.0)     Gray{N0f8}(0.0)  Gray{N0f8}(0.0)"
      ]
     },
     "execution_count": 24,
     "metadata": {},
     "output_type": "execute_result"
    }
   ],
   "source": [
    "i = rand([x for x = 1:10000])\n",
    "show_test_example(NN, i, test_data)"
   ]
  },
  {
   "cell_type": "code",
   "execution_count": 25,
   "metadata": {},
   "outputs": [
    {
     "name": "stdout",
     "output_type": "stream",
     "text": [
      "Predicted label: 4\n",
      "Actual label: 4\n"
     ]
    },
    {
     "data": {
      "image/png": "[encoded data removed]",
      "text/plain": [
       "28×28 reinterpret(reshape, Gray{N0f8}, adjoint(::Array{N0f8,2})) with eltype Gray{N0f8}:\n",
       " Gray{N0f8}(0.0)  Gray{N0f8}(0.0)  …  Gray{N0f8}(0.0)  Gray{N0f8}(0.0)\n",
       " Gray{N0f8}(0.0)  Gray{N0f8}(0.0)     Gray{N0f8}(0.0)  Gray{N0f8}(0.0)\n",
       " Gray{N0f8}(0.0)  Gray{N0f8}(0.0)     Gray{N0f8}(0.0)  Gray{N0f8}(0.0)\n",
       " Gray{N0f8}(0.0)  Gray{N0f8}(0.0)     Gray{N0f8}(0.0)  Gray{N0f8}(0.0)\n",
       " Gray{N0f8}(0.0)  Gray{N0f8}(0.0)     Gray{N0f8}(0.0)  Gray{N0f8}(0.0)\n",
       " Gray{N0f8}(0.0)  Gray{N0f8}(0.0)  …  Gray{N0f8}(0.0)  Gray{N0f8}(0.0)\n",
       " Gray{N0f8}(0.0)  Gray{N0f8}(0.0)     Gray{N0f8}(0.0)  Gray{N0f8}(0.0)\n",
       " Gray{N0f8}(0.0)  Gray{N0f8}(0.0)     Gray{N0f8}(0.0)  Gray{N0f8}(0.0)\n",
       " Gray{N0f8}(0.0)  Gray{N0f8}(0.0)     Gray{N0f8}(0.0)  Gray{N0f8}(0.0)\n",
       " Gray{N0f8}(0.0)  Gray{N0f8}(0.0)     Gray{N0f8}(0.0)  Gray{N0f8}(0.0)\n",
       " Gray{N0f8}(0.0)  Gray{N0f8}(0.0)  …  Gray{N0f8}(0.0)  Gray{N0f8}(0.0)\n",
       " Gray{N0f8}(0.0)  Gray{N0f8}(0.0)     Gray{N0f8}(0.0)  Gray{N0f8}(0.0)\n",
       " Gray{N0f8}(0.0)  Gray{N0f8}(0.0)     Gray{N0f8}(0.0)  Gray{N0f8}(0.0)\n",
       " ⋮                                 ⋱                   \n",
       " Gray{N0f8}(0.0)  Gray{N0f8}(0.0)     Gray{N0f8}(0.0)  Gray{N0f8}(0.0)\n",
       " Gray{N0f8}(0.0)  Gray{N0f8}(0.0)     Gray{N0f8}(0.0)  Gray{N0f8}(0.0)\n",
       " Gray{N0f8}(0.0)  Gray{N0f8}(0.0)     Gray{N0f8}(0.0)  Gray{N0f8}(0.0)\n",
       " Gray{N0f8}(0.0)  Gray{N0f8}(0.0)     Gray{N0f8}(0.0)  Gray{N0f8}(0.0)\n",
       " Gray{N0f8}(0.0)  Gray{N0f8}(0.0)  …  Gray{N0f8}(0.0)  Gray{N0f8}(0.0)\n",
       " Gray{N0f8}(0.0)  Gray{N0f8}(0.0)     Gray{N0f8}(0.0)  Gray{N0f8}(0.0)\n",
       " Gray{N0f8}(0.0)  Gray{N0f8}(0.0)     Gray{N0f8}(0.0)  Gray{N0f8}(0.0)\n",
       " Gray{N0f8}(0.0)  Gray{N0f8}(0.0)     Gray{N0f8}(0.0)  Gray{N0f8}(0.0)\n",
       " Gray{N0f8}(0.0)  Gray{N0f8}(0.0)     Gray{N0f8}(0.0)  Gray{N0f8}(0.0)\n",
       " Gray{N0f8}(0.0)  Gray{N0f8}(0.0)  …  Gray{N0f8}(0.0)  Gray{N0f8}(0.0)\n",
       " Gray{N0f8}(0.0)  Gray{N0f8}(0.0)     Gray{N0f8}(0.0)  Gray{N0f8}(0.0)\n",
       " Gray{N0f8}(0.0)  Gray{N0f8}(0.0)     Gray{N0f8}(0.0)  Gray{N0f8}(0.0)"
      ]
     },
     "execution_count": 25,
     "metadata": {},
     "output_type": "execute_result"
    }
   ],
   "source": [
    "i = rand([x for x = 1:10000])\n",
    "show_test_example(NN, i, test_data)"
   ]
  },
  {
   "cell_type": "code",
   "execution_count": 29,
   "metadata": {},
   "outputs": [
    {
     "name": "stdout",
     "output_type": "stream",
     "text": [
      "Predicted label: 5\n",
      "Actual label: 5\n"
     ]
    },
    {
     "data": {
      "image/png": "[encoded data removed]",
      "text/plain": [
       "28×28 reinterpret(reshape, Gray{N0f8}, adjoint(::Array{N0f8,2})) with eltype Gray{N0f8}:\n",
       " Gray{N0f8}(0.0)  Gray{N0f8}(0.0)  …  Gray{N0f8}(0.0)    Gray{N0f8}(0.0)\n",
       " Gray{N0f8}(0.0)  Gray{N0f8}(0.0)     Gray{N0f8}(0.0)    Gray{N0f8}(0.0)\n",
       " Gray{N0f8}(0.0)  Gray{N0f8}(0.0)     Gray{N0f8}(0.0)    Gray{N0f8}(0.0)\n",
       " Gray{N0f8}(0.0)  Gray{N0f8}(0.0)     Gray{N0f8}(0.0)    Gray{N0f8}(0.0)\n",
       " Gray{N0f8}(0.0)  Gray{N0f8}(0.0)     Gray{N0f8}(0.0)    Gray{N0f8}(0.0)\n",
       " Gray{N0f8}(0.0)  Gray{N0f8}(0.0)  …  Gray{N0f8}(0.0)    Gray{N0f8}(0.0)\n",
       " Gray{N0f8}(0.0)  Gray{N0f8}(0.0)     Gray{N0f8}(0.0)    Gray{N0f8}(0.0)\n",
       " Gray{N0f8}(0.0)  Gray{N0f8}(0.0)     Gray{N0f8}(0.0)    Gray{N0f8}(0.0)\n",
       " Gray{N0f8}(0.0)  Gray{N0f8}(0.0)     Gray{N0f8}(0.298)  Gray{N0f8}(0.0)\n",
       " Gray{N0f8}(0.0)  Gray{N0f8}(0.0)     Gray{N0f8}(0.855)  Gray{N0f8}(0.0)\n",
       " Gray{N0f8}(0.0)  Gray{N0f8}(0.0)  …  Gray{N0f8}(0.047)  Gray{N0f8}(0.0)\n",
       " Gray{N0f8}(0.0)  Gray{N0f8}(0.0)     Gray{N0f8}(0.0)    Gray{N0f8}(0.0)\n",
       " Gray{N0f8}(0.0)  Gray{N0f8}(0.0)     Gray{N0f8}(0.0)    Gray{N0f8}(0.0)\n",
       " ⋮                                 ⋱                     \n",
       " Gray{N0f8}(0.0)  Gray{N0f8}(0.0)     Gray{N0f8}(0.0)    Gray{N0f8}(0.0)\n",
       " Gray{N0f8}(0.0)  Gray{N0f8}(0.0)     Gray{N0f8}(0.0)    Gray{N0f8}(0.0)\n",
       " Gray{N0f8}(0.0)  Gray{N0f8}(0.0)     Gray{N0f8}(0.0)    Gray{N0f8}(0.0)\n",
       " Gray{N0f8}(0.0)  Gray{N0f8}(0.0)     Gray{N0f8}(0.0)    Gray{N0f8}(0.0)\n",
       " Gray{N0f8}(0.0)  Gray{N0f8}(0.0)  …  Gray{N0f8}(0.0)    Gray{N0f8}(0.0)\n",
       " Gray{N0f8}(0.0)  Gray{N0f8}(0.0)     Gray{N0f8}(0.0)    Gray{N0f8}(0.0)\n",
       " Gray{N0f8}(0.0)  Gray{N0f8}(0.0)     Gray{N0f8}(0.0)    Gray{N0f8}(0.0)\n",
       " Gray{N0f8}(0.0)  Gray{N0f8}(0.0)     Gray{N0f8}(0.0)    Gray{N0f8}(0.0)\n",
       " Gray{N0f8}(0.0)  Gray{N0f8}(0.0)     Gray{N0f8}(0.0)    Gray{N0f8}(0.0)\n",
       " Gray{N0f8}(0.0)  Gray{N0f8}(0.0)  …  Gray{N0f8}(0.0)    Gray{N0f8}(0.0)\n",
       " Gray{N0f8}(0.0)  Gray{N0f8}(0.0)     Gray{N0f8}(0.0)    Gray{N0f8}(0.0)\n",
       " Gray{N0f8}(0.0)  Gray{N0f8}(0.0)     Gray{N0f8}(0.0)    Gray{N0f8}(0.0)"
      ]
     },
     "execution_count": 29,
     "metadata": {},
     "output_type": "execute_result"
    }
   ],
   "source": [
    "i = rand([x for x = 1:10000])\n",
    "show_test_example(NN, i, test_data)"
   ]
  },
  {
   "cell_type": "code",
   "execution_count": null,
   "metadata": {},
   "outputs": [],
   "source": []
  }
 ],
 "metadata": {
  "kernelspec": {
   "display_name": "Julia 1.6.0",
   "language": "julia",
   "name": "julia-1.6"
  },
  "language_info": {
   "file_extension": ".jl",
   "mimetype": "application/julia",
   "name": "julia",
   "version": "1.6.0"
  }
 },
 "nbformat": 4,
 "nbformat_minor": 4
}
