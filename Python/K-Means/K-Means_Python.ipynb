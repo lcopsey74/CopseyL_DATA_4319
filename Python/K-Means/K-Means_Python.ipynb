{
 "cells": [
  {
   "cell_type": "markdown",
   "metadata": {},
   "source": [
    "## K-Means Clustering"
   ]
  },
  {
   "cell_type": "markdown",
   "metadata": {},
   "source": [
    "K-Means clustering is an unsupervised learning algorithm which takes unlabeled feature vectors and groups them into clusters according to similar features. K is the specified number of clusters to group the data into. \n",
    "\n",
    "<img src=\"k-means.png\" width=600 />\n",
    "\n",
    "\n",
    "The algorithm:\n",
    "1. Choose the number of clusters k\n",
    "2. Select k random points from the data as initial centroids\n",
    "3. Calculate the distance from each point to each centroid\n",
    "4. Create clusters by assigning points to the closest centroid\n",
    "5. Update the centroids by the mean of all points in the cluster\n",
    "\n",
    "Repeat 3-5 until the centroids stabilize.\n",
    "___"
   ]
  },
  {
   "cell_type": "markdown",
   "metadata": {},
   "source": [
    "In this notebook we will use the following libraries:\n",
    "- [numpy](https://numpy.org/doc/stable/)\n",
    "- [matplotlib.pyplot](https://matplotlib.org/stable/api/_as_gen/matplotlib.pyplot.html)\n",
    "___"
   ]
  },
  {
   "cell_type": "code",
   "execution_count": 1,
   "metadata": {},
   "outputs": [],
   "source": [
    "import numpy as np\n",
    "import matplotlib.pyplot as plt\n",
    "plt.style.use('ggplot')"
   ]
  },
  {
   "cell_type": "code",
   "execution_count": 2,
   "metadata": {},
   "outputs": [],
   "source": [
    "def euclidean_distance(p1, p2):\n",
    "    \"\"\"Return euclidean distance between feature vector and centroid.\"\"\"\n",
    "    return np.sqrt(sum([(p1[i] - p2[i]) ** 2 for i in range(0, len(p1))]))"
   ]
  },
  {
   "cell_type": "code",
   "execution_count": 3,
   "metadata": {},
   "outputs": [],
   "source": [
    "def k_means_distance(X, centroids, k):\n",
    "    \"\"\"Return distances between all feature vectors and centroids.\"\"\"\n",
    "    distances = {}\n",
    "    for p in X:\n",
    "        temp_dict = {}\n",
    "        for i in range(k):\n",
    "            temp_dict[i] = euclidean_distance(p, centroids[i])\n",
    "        distances[p] = temp_dict\n",
    "    return distances"
   ]
  },
  {
   "cell_type": "code",
   "execution_count": 4,
   "metadata": {},
   "outputs": [],
   "source": [
    "def k_means_clusters(X, centroids, k):\n",
    "    \"\"\"Assign feature vectors to closest centroid to create clusters.\"\"\"\n",
    "    distances = k_means_distance(X, centroids, k)\n",
    "    clusters = {}\n",
    "    for p in X:\n",
    "        clusters[p] = 0\n",
    "        min_d = distances[p][0]\n",
    "        for i in range(1, k):\n",
    "            if distances[p][i] < min_d:\n",
    "                clusters[p] = i\n",
    "                min_d = distances[p][i]\n",
    "    return clusters\n",
    "        "
   ]
  },
  {
   "cell_type": "code",
   "execution_count": 5,
   "metadata": {},
   "outputs": [],
   "source": [
    "def k_means_new_centroids(X, centroids, k):\n",
    "    \"\"\"Return new centroids based on mean of clusters.\"\"\"\n",
    "    clusters = k_means_clusters(X, centroids, k)\n",
    "    new_centers = []\n",
    "    for j in range(k):\n",
    "        x = np.mean([p[0] for p in clusters.keys() if clusters[p] == j])\n",
    "        y = np.mean([p[1] for p in clusters.keys() if clusters[p] == j])\n",
    "        point = (x, y)\n",
    "        new_centers.append(point)\n",
    "    return new_centers"
   ]
  },
  {
   "cell_type": "code",
   "execution_count": 6,
   "metadata": {},
   "outputs": [],
   "source": [
    "def k_means_algorithm(X, k, ϵ, return_centroids=False):\n",
    "    centroids = []\n",
    "    for _ in range(k):\n",
    "        i = np.random.randint(len(X))\n",
    "        j = np.random.randint(len(X)) / len(X)\n",
    "        centroids.append((X[i][0] + j, X[i][1] - j))\n",
    "    \n",
    "    new_centroids = k_means_new_centroids(X, centroids, k)\n",
    "    j = 1\n",
    "    while max([euclidean_distance(centroids[i], new_centroids[i]) for i in range(k)]) > ϵ and j < 10000000:\n",
    "        centroids, new_centroids = new_centroids, k_means_new_centroids(X, new_centroids, k)\n",
    "        j += 1\n",
    "    \n",
    "    if return_centroids == False:\n",
    "        return k_means_clusters(X, new_centroids, k)\n",
    "    else:\n",
    "        return new_centroids\n",
    "    "
   ]
  },
  {
   "cell_type": "markdown",
   "metadata": {},
   "source": [
    "___\n",
    "To test the algorithm we will generate three synthetic clusters of data points.\n",
    "___"
   ]
  },
  {
   "cell_type": "code",
   "execution_count": 7,
   "metadata": {},
   "outputs": [],
   "source": [
    "cluster1 = [(np.random.randint(1, 11) + (-1) ** np.random.randint(1, 3) * np.random.randint(1, 3) * np.random.rand(), \n",
    "             np.random.randint(1, 11) + (-1) ** np.random.randint(1, 3) * np.random.randint(1, 2.5) * np.random.rand()) \n",
    "            for _ in range(0, 20)]\n",
    "\n",
    "cluster2 = [(np.random.randint(12, 21) + (-1) ** np.random.randint(1, 3) * np.random.randint(1, 3) * np.random.rand(), \n",
    "             np.random.randint(12, 21) + (-1) ** np.random.randint(1, 3) * np.random.randint(1, 2.5) * np.random.rand()) \n",
    "            for _ in range(0, 16)]\n",
    "\n",
    "cluster3 = [(np.random.randint(23, 28) + (-1) ** np.random.randint(1, 3) * np.random.randint(1, 3) * np.random.rand(), \n",
    "             np.random.randint(23, 28) + (-1) ** np.random.randint(1, 3) * np.random.randint(1, 2.5) * np.random.rand()) \n",
    "            for _ in range(0, 22)]\n",
    "\n",
    "data = cluster1 + cluster2 + cluster3"
   ]
  },
  {
   "cell_type": "code",
   "execution_count": 8,
   "metadata": {},
   "outputs": [
    {
     "data": {
      "image/png": "[encoded data removed]",
      "text/plain": [
       "<Figure size 432x288 with 1 Axes>"
      ]
     },
     "metadata": {
      "needs_background": "light"
     },
     "output_type": "display_data"
    }
   ],
   "source": [
    "fig, ax = plt.subplots()\n",
    "ax.scatter(*zip(*data), color='black')\n",
    "ax.set_title(\"Unlabeled Clustered Data\", fontsize=20)\n",
    "ax.set_xlabel('x1', fontsize=16)\n",
    "ax.set_ylabel('x2', fontsize=16)\n",
    "plt.show()"
   ]
  },
  {
   "cell_type": "code",
   "execution_count": 9,
   "metadata": {},
   "outputs": [],
   "source": [
    "clusters = k_means_algorithm(data, 3, 0.0001)"
   ]
  },
  {
   "cell_type": "code",
   "execution_count": 11,
   "metadata": {},
   "outputs": [
    {
     "data": {
      "image/png": "[encoded data removed]",
      "text/plain": [
       "<Figure size 432x288 with 1 Axes>"
      ]
     },
     "metadata": {
      "needs_background": "light"
     },
     "output_type": "display_data"
    }
   ],
   "source": [
    "fig, ax = plt.subplots()\n",
    "ax.scatter(*zip(*[x for x in clusters.keys() if clusters[x] == 0]), color='steelblue')\n",
    "ax.scatter(*zip(*[x for x in clusters.keys() if clusters[x] == 1]), color='orange')\n",
    "ax.scatter(*zip(*[x for x in clusters.keys() if clusters[x] == 2]), color='seagreen')\n",
    "ax.set_title(\"Unlabeled Clustered Data\", fontsize=20)\n",
    "ax.set_xlabel('x1', fontsize=16)\n",
    "ax.set_ylabel('x2', fontsize=16)\n",
    "plt.show()"
   ]
  },
  {
   "cell_type": "code",
   "execution_count": null,
   "metadata": {},
   "outputs": [],
   "source": []
  }
 ],
 "metadata": {
  "kernelspec": {
   "display_name": "Python 3",
   "language": "python",
   "name": "python3"
  },
  "language_info": {
   "codemirror_mode": {
    "name": "ipython",
    "version": 3
   },
   "file_extension": ".py",
   "mimetype": "text/x-python",
   "name": "python",
   "nbconvert_exporter": "python",
   "pygments_lexer": "ipython3",
   "version": "3.7.3"
  }
 },
 "nbformat": 4,
 "nbformat_minor": 4
}
