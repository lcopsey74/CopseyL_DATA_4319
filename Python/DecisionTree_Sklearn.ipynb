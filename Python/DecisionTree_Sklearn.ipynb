{
 "cells": [
  {
   "cell_type": "markdown",
   "metadata": {},
   "source": [
    "## Decision Tree Classifier using Scikit-learn\n",
    "___"
   ]
  },
  {
   "cell_type": "markdown",
   "metadata": {},
   "source": [
    "### Heart attack prediction dataset\n",
    "\n",
    "This dataset includes the following variables:\n",
    "\n",
    "\n",
    "- Age : Age of the patient\n",
    "\n",
    "- Sex : Sex of the patient\n",
    "\n",
    "- exang: exercise induced angina (1 = yes; 0 = no)\n",
    "\n",
    "- ca: number of major vessels (0-3)\n",
    "\n",
    "- cp : Chest Pain type chest pain type\n",
    "    - Value 1: typical angina\n",
    "    - Value 2: atypical angina\n",
    "    - Value 3: non-anginal pain\n",
    "    - Value 4: asymptomatic\n",
    "\n",
    "- trtbps : resting blood pressure (in mm Hg)\n",
    "\n",
    "- chol : cholestoral in mg/dl fetched via BMI sensor\n",
    "\n",
    "- fbs : (fasting blood sugar > 120 mg/dl) (1 = true; 0 = false)\n",
    "\n",
    "- rest_ecg : resting electrocardiographic results\n",
    "    - Value 0: normal\n",
    "    - Value 1: having ST-T wave abnormality (T wave inversions and/or ST elevation or depression of > 0.05 mV)\n",
    "    - Value 2: showing probable or definite left ventricular hypertrophy by Estes' criteria\n",
    "\n",
    "- thalach : maximum heart rate achieved\n",
    "\n",
    "- target : 0= less chance of heart attack 1= more chance of heart attack\n",
    "\n",
    "\n",
    "We will use Scikit-learn to create a decision tree to predict the likelyhood of a heart attack.\n",
    "___"
   ]
  },
  {
   "cell_type": "markdown",
   "metadata": {},
   "source": [
    "In this notebook we will use the following libraries:\n",
    "- [Pandas]()\n",
    "- sklearn\n",
    "    - [tree.plot_tree](https://scikit-learn.org/stable/modules/generated/sklearn.tree.plot_tree.html#sklearn.tree.plot_tree)\n",
    "    - [tree.DecisionTreeClassifier](https://scikit-learn.org/stable/modules/generated/sklearn.tree.DecisionTreeClassifier.html)\n",
    "    - [model_selection.train_test_split](https://scikit-learn.org/stable/modules/generated/sklearn.model_selection.train_test_split.html)\n",
    "    - [metrics.accuracy_score](https://scikit-learn.org/stable/modules/generated/sklearn.metrics.accuracy_score.html)"
   ]
  },
  {
   "cell_type": "code",
   "execution_count": 140,
   "metadata": {},
   "outputs": [],
   "source": [
    "import pandas as pd\n",
    "from sklearn.tree import plot_tree\n",
    "from sklearn.tree import DecisionTreeClassifier\n",
    "from sklearn.model_selection import train_test_split\n",
    "from sklearn.metrics import accuracy_score"
   ]
  },
  {
   "cell_type": "code",
   "execution_count": 131,
   "metadata": {},
   "outputs": [],
   "source": [
    "data = pd.read_csv(\"heart.csv\")\n",
    "features = data.loc[:, data.columns != \"output\"]\n",
    "labels = data.loc[:, \"output\"]"
   ]
  },
  {
   "cell_type": "code",
   "execution_count": 132,
   "metadata": {},
   "outputs": [],
   "source": [
    "train_x, test_x, train_y, test_y = train_test_split(features, labels, test_size=0.3)"
   ]
  },
  {
   "cell_type": "code",
   "execution_count": 133,
   "metadata": {},
   "outputs": [
    {
     "data": {
      "text/plain": [
       "DecisionTreeClassifier(class_weight=None, criterion='gini', max_depth=7,\n",
       "                       max_features=None, max_leaf_nodes=None,\n",
       "                       min_impurity_decrease=0.0, min_impurity_split=None,\n",
       "                       min_samples_leaf=1, min_samples_split=2,\n",
       "                       min_weight_fraction_leaf=0.0, presort=False,\n",
       "                       random_state=None, splitter='best')"
      ]
     },
     "execution_count": 133,
     "metadata": {},
     "output_type": "execute_result"
    }
   ],
   "source": [
    "tree_clf = DecisionTreeClassifier(max_depth=7)\n",
    "tree_clf.fit(train_x, train_y)"
   ]
  },
  {
   "cell_type": "code",
   "execution_count": 141,
   "metadata": {},
   "outputs": [
    {
     "data": {
      "text/plain": [
       "[Text(161.56046511627906, 203.85, 'X[11] <= 0.5\\nentropy = 0.492\\nsamples = 212\\nvalue = [93, 119]'),\n",
       " Text(81.75348837209302, 176.67000000000002, 'X[8] <= 0.5\\nentropy = 0.32\\nsamples = 120\\nvalue = [24, 96]'),\n",
       " Text(46.71627906976744, 149.49, 'X[7] <= 83.5\\nentropy = 0.185\\nsamples = 97\\nvalue = [10, 87]'),\n",
       " Text(38.93023255813954, 122.31, 'entropy = 0.0\\nsamples = 1\\nvalue = [1, 0]'),\n",
       " Text(54.50232558139535, 122.31, 'X[12] <= 2.5\\nentropy = 0.17\\nsamples = 96\\nvalue = [9, 87]'),\n",
       " Text(38.93023255813954, 95.13, 'X[9] <= 2.8\\nentropy = 0.098\\nsamples = 77\\nvalue = [4, 73]'),\n",
       " Text(31.144186046511628, 67.94999999999999, 'X[4] <= 327.5\\nentropy = 0.076\\nsamples = 76\\nvalue = [3, 73]'),\n",
       " Text(15.572093023255814, 40.77000000000001, 'X[3] <= 109.0\\nentropy = 0.028\\nsamples = 71\\nvalue = [1, 70]'),\n",
       " Text(7.786046511627907, 13.590000000000003, 'entropy = 0.32\\nsamples = 5\\nvalue = [1, 4]'),\n",
       " Text(23.35813953488372, 13.590000000000003, 'entropy = 0.0\\nsamples = 66\\nvalue = [0, 66]'),\n",
       " Text(46.71627906976744, 40.77000000000001, 'X[4] <= 337.5\\nentropy = 0.48\\nsamples = 5\\nvalue = [2, 3]'),\n",
       " Text(38.93023255813954, 13.590000000000003, 'entropy = 0.0\\nsamples = 2\\nvalue = [2, 0]'),\n",
       " Text(54.50232558139535, 13.590000000000003, 'entropy = 0.0\\nsamples = 3\\nvalue = [0, 3]'),\n",
       " Text(46.71627906976744, 67.94999999999999, 'entropy = 0.0\\nsamples = 1\\nvalue = [1, 0]'),\n",
       " Text(70.07441860465116, 95.13, 'X[3] <= 122.0\\nentropy = 0.388\\nsamples = 19\\nvalue = [5, 14]'),\n",
       " Text(62.288372093023256, 67.94999999999999, 'entropy = 0.0\\nsamples = 6\\nvalue = [0, 6]'),\n",
       " Text(77.86046511627907, 67.94999999999999, 'X[3] <= 127.0\\nentropy = 0.473\\nsamples = 13\\nvalue = [5, 8]'),\n",
       " Text(70.07441860465116, 40.77000000000001, 'entropy = 0.0\\nsamples = 2\\nvalue = [2, 0]'),\n",
       " Text(85.64651162790697, 40.77000000000001, 'X[0] <= 46.0\\nentropy = 0.397\\nsamples = 11\\nvalue = [3, 8]'),\n",
       " Text(77.86046511627907, 13.590000000000003, 'entropy = 0.0\\nsamples = 1\\nvalue = [1, 0]'),\n",
       " Text(93.43255813953488, 13.590000000000003, 'entropy = 0.32\\nsamples = 10\\nvalue = [2, 8]'),\n",
       " Text(116.79069767441861, 149.49, 'X[12] <= 2.5\\nentropy = 0.476\\nsamples = 23\\nvalue = [14, 9]'),\n",
       " Text(93.43255813953488, 122.31, 'X[7] <= 125.5\\nentropy = 0.397\\nsamples = 11\\nvalue = [3, 8]'),\n",
       " Text(85.64651162790697, 95.13, 'entropy = 0.0\\nsamples = 2\\nvalue = [2, 0]'),\n",
       " Text(101.21860465116279, 95.13, 'X[5] <= 0.5\\nentropy = 0.198\\nsamples = 9\\nvalue = [1, 8]'),\n",
       " Text(93.43255813953488, 67.94999999999999, 'entropy = 0.0\\nsamples = 8\\nvalue = [0, 8]'),\n",
       " Text(109.0046511627907, 67.94999999999999, 'entropy = 0.0\\nsamples = 1\\nvalue = [1, 0]'),\n",
       " Text(140.14883720930231, 122.31, 'X[4] <= 212.0\\nentropy = 0.153\\nsamples = 12\\nvalue = [11, 1]'),\n",
       " Text(132.36279069767443, 95.13, 'X[0] <= 46.0\\nentropy = 0.5\\nsamples = 2\\nvalue = [1, 1]'),\n",
       " Text(124.57674418604651, 67.94999999999999, 'entropy = 0.0\\nsamples = 1\\nvalue = [1, 0]'),\n",
       " Text(140.14883720930231, 67.94999999999999, 'entropy = 0.0\\nsamples = 1\\nvalue = [0, 1]'),\n",
       " Text(147.93488372093023, 95.13, 'entropy = 0.0\\nsamples = 10\\nvalue = [10, 0]'),\n",
       " Text(241.3674418604651, 176.67000000000002, 'X[2] <= 0.5\\nentropy = 0.375\\nsamples = 92\\nvalue = [69, 23]'),\n",
       " Text(190.75813953488372, 149.49, 'X[3] <= 109.0\\nentropy = 0.16\\nsamples = 57\\nvalue = [52, 5]'),\n",
       " Text(171.29302325581395, 122.31, 'X[8] <= 0.5\\nentropy = 0.5\\nsamples = 4\\nvalue = [2, 2]'),\n",
       " Text(163.50697674418603, 95.13, 'entropy = 0.0\\nsamples = 2\\nvalue = [0, 2]'),\n",
       " Text(179.07906976744187, 95.13, 'entropy = 0.0\\nsamples = 2\\nvalue = [2, 0]'),\n",
       " Text(210.2232558139535, 122.31, 'X[4] <= 301.5\\nentropy = 0.107\\nsamples = 53\\nvalue = [50, 3]'),\n",
       " Text(194.65116279069767, 95.13, 'X[7] <= 105.5\\nentropy = 0.044\\nsamples = 44\\nvalue = [43, 1]'),\n",
       " Text(186.86511627906975, 67.94999999999999, 'X[9] <= 0.7\\nentropy = 0.278\\nsamples = 6\\nvalue = [5, 1]'),\n",
       " Text(179.07906976744187, 40.77000000000001, 'entropy = 0.0\\nsamples = 1\\nvalue = [0, 1]'),\n",
       " Text(194.65116279069767, 40.77000000000001, 'entropy = 0.0\\nsamples = 5\\nvalue = [5, 0]'),\n",
       " Text(202.43720930232558, 67.94999999999999, 'entropy = 0.0\\nsamples = 38\\nvalue = [38, 0]'),\n",
       " Text(225.7953488372093, 95.13, 'X[4] <= 303.5\\nentropy = 0.346\\nsamples = 9\\nvalue = [7, 2]'),\n",
       " Text(218.0093023255814, 67.94999999999999, 'entropy = 0.0\\nsamples = 2\\nvalue = [0, 2]'),\n",
       " Text(233.58139534883722, 67.94999999999999, 'entropy = 0.0\\nsamples = 7\\nvalue = [7, 0]'),\n",
       " Text(291.9767441860465, 149.49, 'X[12] <= 2.5\\nentropy = 0.5\\nsamples = 35\\nvalue = [17, 18]'),\n",
       " Text(272.51162790697674, 122.31, 'X[0] <= 55.5\\nentropy = 0.444\\nsamples = 24\\nvalue = [8, 16]'),\n",
       " Text(256.9395348837209, 95.13, 'X[4] <= 162.0\\nentropy = 0.165\\nsamples = 11\\nvalue = [1, 10]'),\n",
       " Text(249.15348837209302, 67.94999999999999, 'entropy = 0.0\\nsamples = 1\\nvalue = [1, 0]'),\n",
       " Text(264.72558139534885, 67.94999999999999, 'entropy = 0.0\\nsamples = 10\\nvalue = [0, 10]'),\n",
       " Text(288.0837209302326, 95.13, 'X[0] <= 59.5\\nentropy = 0.497\\nsamples = 13\\nvalue = [7, 6]'),\n",
       " Text(280.29767441860463, 67.94999999999999, 'entropy = 0.0\\nsamples = 4\\nvalue = [4, 0]'),\n",
       " Text(295.86976744186046, 67.94999999999999, 'X[1] <= 0.5\\nentropy = 0.444\\nsamples = 9\\nvalue = [3, 6]'),\n",
       " Text(288.0837209302326, 40.77000000000001, 'entropy = 0.0\\nsamples = 5\\nvalue = [0, 5]'),\n",
       " Text(303.65581395348835, 40.77000000000001, 'X[0] <= 67.5\\nentropy = 0.375\\nsamples = 4\\nvalue = [3, 1]'),\n",
       " Text(295.86976744186046, 13.590000000000003, 'entropy = 0.0\\nsamples = 3\\nvalue = [3, 0]'),\n",
       " Text(311.4418604651163, 13.590000000000003, 'entropy = 0.0\\nsamples = 1\\nvalue = [0, 1]'),\n",
       " Text(311.4418604651163, 122.31, 'X[0] <= 60.0\\nentropy = 0.298\\nsamples = 11\\nvalue = [9, 2]'),\n",
       " Text(303.65581395348835, 95.13, 'entropy = 0.0\\nsamples = 6\\nvalue = [6, 0]'),\n",
       " Text(319.2279069767442, 95.13, 'X[7] <= 129.0\\nentropy = 0.48\\nsamples = 5\\nvalue = [3, 2]'),\n",
       " Text(311.4418604651163, 67.94999999999999, 'entropy = 0.0\\nsamples = 3\\nvalue = [3, 0]'),\n",
       " Text(327.01395348837207, 67.94999999999999, 'entropy = 0.0\\nsamples = 2\\nvalue = [0, 2]')]"
      ]
     },
     "execution_count": 141,
     "metadata": {},
     "output_type": "execute_result"
    },
    {
     "data": {
      "image/png": "[encoded data removed]",
      "text/plain": [
       "<Figure size 432x288 with 1 Axes>"
      ]
     },
     "metadata": {
      "needs_background": "light"
     },
     "output_type": "display_data"
    }
   ],
   "source": [
    "plot_tree(tree_clf)"
   ]
  },
  {
   "cell_type": "code",
   "execution_count": 136,
   "metadata": {},
   "outputs": [
    {
     "data": {
      "text/plain": [
       "0.9858490566037735"
      ]
     },
     "execution_count": 136,
     "metadata": {},
     "output_type": "execute_result"
    }
   ],
   "source": [
    "tree_clf.score(train_x, train_y)"
   ]
  },
  {
   "cell_type": "code",
   "execution_count": 139,
   "metadata": {},
   "outputs": [
    {
     "data": {
      "text/plain": [
       "0.7252747252747253"
      ]
     },
     "execution_count": 139,
     "metadata": {},
     "output_type": "execute_result"
    }
   ],
   "source": [
    "pred_y = tree_clf.predict(test_x)\n",
    "accuracy_score(test_y, pred_y)"
   ]
  },
  {
   "cell_type": "markdown",
   "metadata": {},
   "source": [
    "___\n",
    "We can see the decision tree trained to 98% accuracy on the training data is 72% accurate on the test data"
   ]
  }
 ],
 "metadata": {
  "kernelspec": {
   "display_name": "Python 3",
   "language": "python",
   "name": "python3"
  },
  "language_info": {
   "codemirror_mode": {
    "name": "ipython",
    "version": 3
   },
   "file_extension": ".py",
   "mimetype": "text/x-python",
   "name": "python",
   "nbconvert_exporter": "python",
   "pygments_lexer": "ipython3",
   "version": "3.7.3"
  }
 },
 "nbformat": 4,
 "nbformat_minor": 4
}
